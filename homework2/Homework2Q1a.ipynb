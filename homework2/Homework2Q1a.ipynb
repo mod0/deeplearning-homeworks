{
 "cells": [
  {
   "cell_type": "code",
   "execution_count": 2,
   "metadata": {},
   "outputs": [],
   "source": [
    "%matplotlib inline\n",
    "%load_ext autoreload\n",
    "%autoreload 2"
   ]
  },
  {
   "cell_type": "code",
   "execution_count": 3,
   "metadata": {},
   "outputs": [],
   "source": [
    "import numpy as np\n",
    "import homework2q1a as hw2"
   ]
  },
  {
   "cell_type": "code",
   "execution_count": 4,
   "metadata": {},
   "outputs": [
    {
     "name": "stdout",
     "output_type": "stream",
     "text": [
      "Loaded training data of shape:  (1000, 3) <type 'numpy.ndarray'>\n",
      "Loaded testing data of shape:  (1000, 3) <type 'numpy.ndarray'>\n"
     ]
    }
   ],
   "source": [
    "###################################################################\n",
    "# Run the stochastic gradient descent algorithm with relu\n",
    "###################################################################\n",
    "trainfile = 'train_data.txt'\n",
    "testfile  = 'test_data.txt'\n",
    "params = hw2.initialize(trainfile, testfile, eta = 0.01, maxiter = 20)\n"
   ]
  },
  {
   "cell_type": "code",
   "execution_count": 16,
   "metadata": {},
   "outputs": [
    {
     "name": "stdout",
     "output_type": "stream",
     "text": [
      "Stochastic Gradient Descent: Running epoch  0\n",
      "Total training loss in this epoch:  111.275059238\n",
      "Total testing loss in this epoch:  117.303084889\n",
      "Stochastic Gradient Descent: Running epoch  1\n",
      "Total training loss in this epoch:  13.9294069108\n",
      "Total testing loss in this epoch:  13.5082816117\n",
      "Stochastic Gradient Descent: Running epoch  2\n",
      "Total training loss in this epoch:  8.39927030828\n",
      "Total testing loss in this epoch:  7.96827636044\n",
      "Stochastic Gradient Descent: Running epoch  3\n",
      "Total training loss in this epoch:  6.33349944477\n",
      "Total testing loss in this epoch:  5.93569814733\n",
      "Stochastic Gradient Descent: Running epoch  4\n",
      "Total training loss in this epoch:  5.33706517608\n",
      "Total testing loss in this epoch:  4.98386172844\n",
      "Stochastic Gradient Descent: Running epoch  5\n",
      "Total training loss in this epoch:  4.62086918981\n",
      "Total testing loss in this epoch:  4.39563855883\n",
      "Stochastic Gradient Descent: Running epoch  6\n",
      "Total training loss in this epoch:  4.15962385891\n",
      "Total testing loss in this epoch:  4.00902271319\n",
      "Stochastic Gradient Descent: Running epoch  7\n",
      "Total training loss in this epoch:  3.84638900855\n",
      "Total testing loss in this epoch:  3.59298861154\n",
      "Stochastic Gradient Descent: Running epoch  8\n",
      "Total training loss in this epoch:  3.62767521236\n",
      "Total testing loss in this epoch:  3.29980919931\n",
      "Stochastic Gradient Descent: Running epoch  9\n",
      "Total training loss in this epoch:  3.46404694421\n",
      "Total testing loss in this epoch:  3.07727145412\n",
      "Stochastic Gradient Descent: Running epoch  10\n",
      "Total training loss in this epoch:  3.33571575363\n",
      "Total testing loss in this epoch:  2.90379580092\n",
      "Stochastic Gradient Descent: Running epoch  11\n",
      "Total training loss in this epoch:  3.23197491023\n",
      "Total testing loss in this epoch:  2.76549858086\n",
      "Stochastic Gradient Descent: Running epoch  12\n",
      "Total training loss in this epoch:  3.14591712885\n",
      "Total testing loss in this epoch:  2.65310560011\n",
      "Stochastic Gradient Descent: Running epoch  13\n",
      "Total training loss in this epoch:  3.07294251197\n",
      "Total testing loss in this epoch:  2.56023230404\n",
      "Stochastic Gradient Descent: Running epoch  14\n",
      "Total training loss in this epoch:  3.00990539134\n",
      "Total testing loss in this epoch:  2.48237167894\n",
      "Stochastic Gradient Descent: Running epoch  15\n",
      "Total training loss in this epoch:  2.95460457817\n",
      "Total testing loss in this epoch:  2.41627276832\n",
      "Stochastic Gradient Descent: Running epoch  16\n",
      "Total training loss in this epoch:  2.9054676274\n",
      "Total testing loss in this epoch:  2.35954568374\n",
      "Stochastic Gradient Descent: Running epoch  17\n",
      "Total training loss in this epoch:  2.86134933511\n",
      "Total testing loss in this epoch:  2.3104032557\n",
      "Stochastic Gradient Descent: Running epoch  18\n",
      "Total training loss in this epoch:  2.82139988934\n",
      "Total testing loss in this epoch:  2.26748787292\n",
      "Stochastic Gradient Descent: Running epoch  19\n",
      "Total training loss in this epoch:  2.78497678923\n",
      "Total testing loss in this epoch:  2.22975294368\n"
     ]
    }
   ],
   "source": [
    "model = hw2.sgd(**params)\n",
    "# Total loss function value in an epoch is the sum of \n",
    "# loss functions corresponding to every example"
   ]
  },
  {
   "cell_type": "code",
   "execution_count": 17,
   "metadata": {},
   "outputs": [
    {
     "name": "stdout",
     "output_type": "stream",
     "text": [
      "Epoch 1/20\n",
      "1000/1000 [==============================] - 2s - loss: 0.2500 - acc: 0.5000     \n",
      "Epoch 2/20\n",
      "1000/1000 [==============================] - 2s - loss: 0.2500 - acc: 0.5000     \n",
      "Epoch 3/20\n",
      "1000/1000 [==============================] - 2s - loss: 0.2500 - acc: 0.5000     \n",
      "Epoch 4/20\n",
      "1000/1000 [==============================] - 2s - loss: 0.2500 - acc: 0.5000     \n",
      "Epoch 5/20\n",
      "1000/1000 [==============================] - 2s - loss: 0.2500 - acc: 0.5000     \n",
      "Epoch 6/20\n",
      "1000/1000 [==============================] - 2s - loss: 0.2500 - acc: 0.5000     \n",
      "Epoch 7/20\n",
      "1000/1000 [==============================] - 2s - loss: 0.2500 - acc: 0.5000     \n",
      "Epoch 8/20\n",
      "1000/1000 [==============================] - 2s - loss: 0.2500 - acc: 0.5000     \n",
      "Epoch 9/20\n",
      "1000/1000 [==============================] - 2s - loss: 0.2500 - acc: 0.5000     \n",
      "Epoch 10/20\n",
      "1000/1000 [==============================] - 2s - loss: 0.2500 - acc: 0.5000     \n",
      "Epoch 11/20\n",
      "1000/1000 [==============================] - 2s - loss: 0.2500 - acc: 0.5000     \n",
      "Epoch 12/20\n",
      "1000/1000 [==============================] - 2s - loss: 0.2499 - acc: 0.5000     \n",
      "Epoch 13/20\n",
      "1000/1000 [==============================] - 2s - loss: 0.2499 - acc: 0.5000     \n",
      "Epoch 14/20\n",
      "1000/1000 [==============================] - 2s - loss: 0.2496 - acc: 0.5000     \n",
      "Epoch 15/20\n",
      "1000/1000 [==============================] - 2s - loss: 0.2464 - acc: 0.5000     \n",
      "Epoch 16/20\n",
      "1000/1000 [==============================] - 2s - loss: 0.1749 - acc: 0.5000     \n",
      "Epoch 17/20\n",
      "1000/1000 [==============================] - 2s - loss: 0.1295 - acc: 0.5000     \n",
      "Epoch 18/20\n",
      "1000/1000 [==============================] - 2s - loss: 0.1273 - acc: 0.5000     \n",
      "Epoch 19/20\n",
      "1000/1000 [==============================] - 2s - loss: 0.1267 - acc: 0.5000     \n",
      "Epoch 20/20\n",
      "1000/1000 [==============================] - 2s - loss: 0.1264 - acc: 0.5000     \n",
      " 979/1000 [============================>.] - ETA: 0s"
     ]
    }
   ],
   "source": [
    "######################################################################\n",
    "# Validate using Keras model\n",
    "######################################################################\n",
    "\n",
    "from keras.models import Sequential\n",
    "from keras.layers import Dense, Activation\n",
    "from keras.optimizers import SGD\n",
    "\n",
    "x_train     = params['train_data'][:,:-1]\n",
    "y_train     = np.array([hw2.label_to_ytrue(2, x) for x in params['train_data'][:, -1]])\n",
    "x_test      = params['test_data'][:,:-1]\n",
    "y_test      = np.array([hw2.label_to_ytrue(2, x) for x in params['test_data'][:, -1]])\n",
    "\n",
    "keras_model = Sequential()\n",
    "keras_model.add(Dense(3, activation='relu', \n",
    "                      use_bias = False, \n",
    "                      kernel_initializer='random_uniform', \n",
    "                      input_dim = 2))\n",
    "keras_model.add(Dense(3, activation='relu',\n",
    "                      use_bias = False, \n",
    "                      kernel_initializer='random_uniform'))\n",
    "keras_model.add(Dense(2, activation='softmax', \n",
    "                      use_bias = False,\n",
    "                      kernel_initializer='random_uniform'))\n",
    "sgd = SGD(lr=params['eta'])\n",
    "keras_model.compile(optimizer=sgd,\n",
    "                    loss='mean_squared_error', metrics=['accuracy'])\n",
    "keras_model.fit(x_train, y_train, \n",
    "                batch_size = 1,\n",
    "                epochs=params['maxiter'])\n",
    "score = keras_model.evaluate(x_test, y_test, batch_size=1)\n",
    "kw = keras_model.get_weights()\n",
    "\n"
   ]
  },
  {
   "cell_type": "code",
   "execution_count": 18,
   "metadata": {},
   "outputs": [],
   "source": [
    "# Note: In the following plots, we show how \n",
    "# training and testing loss changes with EPOCH.\n",
    "# SGD algorithm is terminated once testing loss begins \n",
    "# to increase again"
   ]
  },
  {
   "cell_type": "code",
   "execution_count": 19,
   "metadata": {},
   "outputs": [
    {
     "data": {
      "image/png": "[encoded data removed]",
      "text/plain": [
       "<matplotlib.figure.Figure at 0x7ff54f947090>"
      ]
     },
     "metadata": {},
     "output_type": "display_data"
    },
    {
     "data": {
      "image/png": "[encoded data removed]",
      "text/plain": [
       "<matplotlib.figure.Figure at 0x7ff54f947050>"
      ]
     },
     "metadata": {},
     "output_type": "display_data"
    }
   ],
   "source": [
    "hw2.doplots(\"Loss vs Epochs (training)\", model['total_training_loss_fn_value'], \"Training Loss\", \"Epochs\", \"Loss\", semilogy = True)\n",
    "hw2.doplots(\"Loss vs Epochs (testing)\", model['total_testing_loss_fn_value'], \"Testing Loss\", \"Epochs\", \"Loss\", semilogy = True)\n"
   ]
  },
  {
   "cell_type": "code",
   "execution_count": 20,
   "metadata": {},
   "outputs": [
    {
     "name": "stdout",
     "output_type": "stream",
     "text": [
      "Testing accuracy for least test loss:  0.999\n",
      "\n",
      "##############################################################\n",
      "Weights corresponding to best testing accuracy (custom SGD): \n",
      "##############################################################\n",
      "W1:  [[ 1.45016221 -0.86164846]\n",
      " [-0.7230405   0.46580741]\n",
      " [-0.48755018  1.26329079]]\n",
      "W2:  [[-0.01925452  0.62858035  1.11076685]\n",
      " [ 1.51093328  0.35250684  0.64975337]\n",
      " [-0.01797041  1.25092136  0.67887373]]\n",
      "W3:  [[-0.16935912  1.40811677 -0.26703073]\n",
      " [ 1.50656148 -0.07638121  1.15343457]]\n"
     ]
    }
   ],
   "source": [
    "######################################################################\n",
    "# Display statistics\n",
    "######################################################################\n",
    "\n",
    "# Total loss function value in an epoch is the sum of \n",
    "# loss functions corresponding to every example\n",
    "print \"Testing accuracy for least test loss: \", model['testing_accuracy_with_best_test_loss']\n",
    "print \"\"\"\n",
    "##############################################################\n",
    "Weights corresponding to best testing accuracy (custom SGD): \n",
    "##############################################################\"\"\"\n",
    "print \"W1: \", model['w'][0]\n",
    "print \"W2: \", model['w'][1]\n",
    "print \"W3: \", model['w'][2]"
   ]
  },
  {
   "cell_type": "code",
   "execution_count": 21,
   "metadata": {},
   "outputs": [
    {
     "name": "stdout",
     "output_type": "stream",
     "text": [
      "\n",
      "##############################################################\n",
      "Weights obtained from Keras: \n",
      "##############################################################\n",
      "Keras W1: [[ 0.77414674 -0.04317837 -0.04298881]\n",
      " [-0.78001314  0.00758287 -0.02839755]]\n",
      "Keras W2: [[ 1.09713435 -0.03700966 -0.04346051]\n",
      " [-0.03784521 -0.00263034 -0.03105944]\n",
      " [ 0.00419479 -0.02968076 -0.03769611]]\n",
      "Keras W3: [[ 0.7682575  -0.78312558]\n",
      " [ 0.02998395  0.02922449]\n",
      " [ 0.01048733 -0.01484897]]\n"
     ]
    }
   ],
   "source": [
    "print \"\"\"\n",
    "##############################################################\n",
    "Weights obtained from Keras: \n",
    "##############################################################\"\"\"\n",
    "print \"Keras W1:\", kw[0]\n",
    "print \"Keras W2:\", kw[1]\n",
    "print \"Keras W3:\", kw[2]"
   ]
  },
  {
   "cell_type": "code",
   "execution_count": 22,
   "metadata": {},
   "outputs": [],
   "source": [
    "# Keras multiplies by weight vectors from the right so transposing it.\n",
    "kwt = []\n",
    "kwt.append(kw[0].T)\n",
    "kwt.append(kw[1].T)\n",
    "kwt.append(kw[2].T)\n"
   ]
  },
  {
   "cell_type": "code",
   "execution_count": 23,
   "metadata": {},
   "outputs": [
    {
     "name": "stdout",
     "output_type": "stream",
     "text": [
      "\n",
      "#########################################################################\n",
      "Precision, Recall and F-score for model output by running custom SGD\n",
      "#########################################################################\n",
      "\n",
      "Precision:  [ 1.          0.99800399]\n",
      "Recall:  [ 0.998  1.   ]\n",
      "F-Score:  [ 0.998999  0.999001]\n"
     ]
    }
   ],
   "source": [
    "\n",
    "# Find the f_score and other metrics\n",
    "precision_recall_fscore = hw2.get_precision_recall_fscore(params['shuffle_order_testing'], params['test_data'], model['w'], params['z'], params['a'], params['y'])\n",
    "print \"\"\"\n",
    "#########################################################################\n",
    "Precision, Recall and F-score for model output by running custom SGD\n",
    "#########################################################################\n",
    "\"\"\"\n",
    "print \"Precision: \", precision_recall_fscore[0]\n",
    "print \"Recall: \", precision_recall_fscore[1]\n",
    "print \"F-Score: \", precision_recall_fscore[2]\n"
   ]
  },
  {
   "cell_type": "code",
   "execution_count": 24,
   "metadata": {},
   "outputs": [
    {
     "name": "stdout",
     "output_type": "stream",
     "text": [
      "\n",
      "#########################################################################\n",
      "Precision, Recall and F-score for model generated by running Keras SGD\n",
      "#########################################################################\n",
      "\n",
      "Precision:  [ 0.5  0. ]\n",
      "Recall:  [ 1.  0.]\n",
      "F-Score:  [ 0.66666667  0.        ]\n"
     ]
    }
   ],
   "source": [
    "\n",
    "# Find the f_score and other metrics\n",
    "precision_recall_fscore = hw2.get_precision_recall_fscore(params['shuffle_order_testing'], params['test_data'], kwt, params['z'], params['a'], params['y'])\n",
    "print \"\"\"\n",
    "#########################################################################\n",
    "Precision, Recall and F-score for model generated by running Keras SGD\n",
    "#########################################################################\n",
    "\"\"\"\n",
    "print \"Precision: \", precision_recall_fscore[0]\n",
    "print \"Recall: \", precision_recall_fscore[1]\n",
    "print \"F-Score: \", precision_recall_fscore[2]"
   ]
  }
 ],
 "metadata": {
  "kernelspec": {
   "display_name": "Python 2",
   "language": "python",
   "name": "python2"
  },
  "language_info": {
   "codemirror_mode": {
    "name": "ipython",
    "version": 2
   },
   "file_extension": ".py",
   "mimetype": "text/x-python",
   "name": "python",
   "nbconvert_exporter": "python",
   "pygments_lexer": "ipython2",
   "version": "2.7.12"
  }
 },
 "nbformat": 4,
 "nbformat_minor": 2
}
