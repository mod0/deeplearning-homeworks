{
 "cells": [
  {
   "cell_type": "code",
   "execution_count": 15,
   "metadata": {
    "collapsed": false
   },
   "outputs": [
    {
     "name": "stdout",
     "output_type": "stream",
     "text": [
      "The autoreload extension is already loaded. To reload it, use:\n",
      "  %reload_ext autoreload\n"
     ]
    }
   ],
   "source": [
    "%matplotlib inline\n",
    "%load_ext autoreload\n",
    "%autoreload 2"
   ]
  },
  {
   "cell_type": "code",
   "execution_count": 16,
   "metadata": {
    "collapsed": true
   },
   "outputs": [],
   "source": [
    "import numpy as np\n",
    "import homework2q1 as hw2"
   ]
  },
  {
   "cell_type": "code",
   "execution_count": 17,
   "metadata": {
    "collapsed": false
   },
   "outputs": [
    {
     "name": "stdout",
     "output_type": "stream",
     "text": [
      "Loaded training data of shape:  (1000, 3) <type 'numpy.ndarray'>\n",
      "Loaded testing data of shape:  (1000, 3) <type 'numpy.ndarray'>\n"
     ]
    }
   ],
   "source": [
    "params = hw2.initialize(eta = 0.01, maxiter = 50)"
   ]
  },
  {
   "cell_type": "code",
   "execution_count": 18,
   "metadata": {
    "collapsed": false
   },
   "outputs": [
    {
     "name": "stdout",
     "output_type": "stream",
     "text": [
      "Stochastic Gradient Descent: Running epoch  0\n",
      "Total training loss in this epoch:  15.1093559687\n",
      "Total testing loss in this epoch:  15.4506260047\n",
      "Stochastic Gradient Descent: Running epoch  1\n",
      "Total training loss in this epoch:  8.70074824763\n",
      "Total testing loss in this epoch:  7.88161329072\n",
      "Stochastic Gradient Descent: Running epoch  2\n",
      "Total training loss in this epoch:  6.61083787019\n",
      "Total testing loss in this epoch:  5.65068621711\n",
      "Stochastic Gradient Descent: Running epoch  3\n",
      "Total training loss in this epoch:  5.61158895925\n",
      "Total testing loss in this epoch:  4.40960953719\n",
      "Stochastic Gradient Descent: Running epoch  4\n",
      "Total training loss in this epoch:  4.85225021828\n",
      "Total testing loss in this epoch:  3.6432365251\n",
      "Stochastic Gradient Descent: Running epoch  5\n",
      "Total training loss in this epoch:  4.43625864038\n",
      "Total testing loss in this epoch:  3.18701211384\n",
      "Stochastic Gradient Descent: Running epoch  6\n",
      "Total training loss in this epoch:  4.12700487991\n",
      "Total testing loss in this epoch:  2.87151747191\n",
      "Stochastic Gradient Descent: Running epoch  7\n",
      "Total training loss in this epoch:  3.86336924471\n",
      "Total testing loss in this epoch:  2.62727743265\n",
      "Stochastic Gradient Descent: Running epoch  8\n",
      "Total training loss in this epoch:  3.67509843911\n",
      "Total testing loss in this epoch:  2.45057929701\n",
      "Stochastic Gradient Descent: Running epoch  9\n",
      "Total training loss in this epoch:  3.53653067719\n",
      "Total testing loss in this epoch:  2.34064615617\n",
      "Stochastic Gradient Descent: Running epoch  10\n",
      "Total training loss in this epoch:  3.43165493256\n",
      "Total testing loss in this epoch:  2.25511119578\n",
      "Stochastic Gradient Descent: Running epoch  11\n",
      "Total training loss in this epoch:  3.30252839001\n",
      "Total testing loss in this epoch:  2.20380802557\n",
      "Stochastic Gradient Descent: Running epoch  12\n",
      "Total training loss in this epoch:  3.20459691135\n",
      "Total testing loss in this epoch:  2.16522781742\n",
      "Stochastic Gradient Descent: Running epoch  13\n",
      "Total training loss in this epoch:  3.12989119553\n",
      "Total testing loss in this epoch:  2.13515247623\n",
      "Stochastic Gradient Descent: Running epoch  14\n",
      "Total training loss in this epoch:  3.0714718491\n",
      "Total testing loss in this epoch:  2.11094623499\n",
      "Stochastic Gradient Descent: Running epoch  15\n",
      "Total training loss in this epoch:  3.02477664073\n",
      "Total testing loss in this epoch:  2.09090123261\n",
      "Stochastic Gradient Descent: Running epoch  16\n",
      "Total training loss in this epoch:  2.98672347413\n",
      "Total testing loss in this epoch:  2.07387757225\n",
      "Stochastic Gradient Descent: Running epoch  17\n",
      "Total training loss in this epoch:  2.95517733875\n",
      "Total testing loss in this epoch:  2.05907114734\n",
      "Stochastic Gradient Descent: Running epoch  18\n",
      "Total training loss in this epoch:  2.9286252777\n",
      "Total testing loss in this epoch:  2.0459409319\n",
      "Stochastic Gradient Descent: Running epoch  19\n",
      "Total training loss in this epoch:  2.90597288194\n",
      "Total testing loss in this epoch:  2.03412417358\n",
      "Stochastic Gradient Descent: Running epoch  20\n",
      "Total training loss in this epoch:  2.79294100618\n",
      "Total testing loss in this epoch:  2.00329999826\n",
      "Stochastic Gradient Descent: Running epoch  21\n",
      "Total training loss in this epoch:  2.70171820687\n",
      "Total testing loss in this epoch:  1.9929588549\n",
      "Stochastic Gradient Descent: Running epoch  22\n",
      "Total training loss in this epoch:  2.62964762898\n",
      "Total testing loss in this epoch:  1.98875655214\n",
      "Stochastic Gradient Descent: Running epoch  23\n",
      "Total training loss in this epoch:  2.57240222108\n",
      "Total testing loss in this epoch:  1.98796599806\n",
      "Stochastic Gradient Descent: Running epoch  24\n",
      "Total training loss in this epoch:  2.52650871587\n",
      "Total testing loss in this epoch:  1.98900676204\n"
     ]
    }
   ],
   "source": [
    "model = hw2.sgd(**params)\n",
    "# Total loss function value in an epoch is the sum of \n",
    "# loss functions corresponding to every example"
   ]
  },
  {
   "cell_type": "code",
   "execution_count": 19,
   "metadata": {
    "collapsed": false
   },
   "outputs": [
    {
     "name": "stdout",
     "output_type": "stream",
     "text": [
      "Testing accuracy for least test loss:  0.998\n",
      "Weights corresponding to best testing accuracy: \n",
      "W1:  [[-0.03687243  0.61689754]\n",
      " [-0.95192419  0.83746718]\n",
      " [ 1.19638227 -0.91879434]]\n",
      "W2:  [[ 0.46020324  1.65680387 -0.04082021]\n",
      " [-0.00171929  0.00650246  0.70025979]\n",
      " [-0.04544587  0.32997872  1.52491652]]\n",
      "W3:  [[-0.85971207  0.80750756  1.052105  ]\n",
      " [ 1.15126556 -0.03120645 -0.26327571]]\n"
     ]
    }
   ],
   "source": [
    "print \"Testing accuracy for least test loss: \", model['testing_accuracy_with_best_test_loss']\n",
    "print \"Weights corresponding to best testing accuracy: \"\n",
    "print \"W1: \", model['w'][0]\n",
    "print \"W2: \", model['w'][1]\n",
    "print \"W3: \", model['w'][2]"
   ]
  },
  {
   "cell_type": "code",
   "execution_count": 20,
   "metadata": {
    "collapsed": true
   },
   "outputs": [],
   "source": [
    "# Note: In the following plots, we show how \n",
    "# training and testing loss changes with EPOCH.\n",
    "# SGD algorithm is terminated once testing loss begins \n",
    "# to increase again"
   ]
  },
  {
   "cell_type": "code",
   "execution_count": 21,
   "metadata": {
    "collapsed": false
   },
   "outputs": [
    {
     "data": {
      "image/png": "[encoded data removed]",
      "text/plain": [
       "<matplotlib.figure.Figure at 0x7f90e3a31810>"
      ]
     },
     "metadata": {},
     "output_type": "display_data"
    },
    {
     "data": {
      "image/png": "[encoded data removed]",
      "text/plain": [
       "<matplotlib.figure.Figure at 0x7f90e3a317d0>"
      ]
     },
     "metadata": {},
     "output_type": "display_data"
    }
   ],
   "source": [
    "hw2.doplots(\"Loss vs Epochs (training)\", model['total_training_loss_fn_value'], \"Training Loss\", \"Epochs\", \"Loss\", semilogy = True)\n",
    "hw2.doplots(\"Loss vs Epochs (testing)\", model['total_testing_loss_fn_value'], \"Testing Loss\", \"Epochs\", \"Loss\", semilogy = True)\n"
   ]
  },
  {
   "cell_type": "code",
   "execution_count": 22,
   "metadata": {
    "collapsed": false
   },
   "outputs": [
    {
     "name": "stdout",
     "output_type": "stream",
     "text": [
      "Precision:  [ 0.998  0.998]\n",
      "Recall:  [ 0.998  0.998]\n",
      "F-Score:  [ 0.998  0.998]\n"
     ]
    }
   ],
   "source": [
    "# Find the f_score and other metrics\n",
    "precision_recall_fscore = hw2.get_precision_recall_fscore(params['shuffle_order_testing'], params['test_data'], model['w'], params['z'], params['a'], params['y'])\n",
    "print \"Precision: \", precision_recall_fscore[0]\n",
    "print \"Recall: \", precision_recall_fscore[1]\n",
    "print \"F-Score: \", precision_recall_fscore[2]"
   ]
  },
  {
   "cell_type": "code",
   "execution_count": 23,
   "metadata": {
    "collapsed": false
   },
   "outputs": [],
   "source": [
    "from keras.models import Sequential\n",
    "from keras.layers import Dense, Activation\n",
    "from keras.optimizers import SGD"
   ]
  },
  {
   "cell_type": "code",
   "execution_count": 24,
   "metadata": {
    "collapsed": false
   },
   "outputs": [
    {
     "name": "stdout",
     "output_type": "stream",
     "text": [
      "Epoch 1/50\n",
      "1000/1000 [==============================] - 1s - loss: 0.2500 - acc: 0.4850     \n",
      "Epoch 2/50\n",
      "1000/1000 [==============================] - 1s - loss: 0.2500 - acc: 0.8420     \n",
      "Epoch 3/50\n",
      "1000/1000 [==============================] - 1s - loss: 0.2499 - acc: 0.9570     \n",
      "Epoch 4/50\n",
      "1000/1000 [==============================] - 1s - loss: 0.2496 - acc: 0.9940     \n",
      "Epoch 5/50\n",
      "1000/1000 [==============================] - 1s - loss: 0.2471 - acc: 0.9970     \n",
      "Epoch 6/50\n",
      "1000/1000 [==============================] - 1s - loss: 0.1804 - acc: 0.9980     \n",
      "Epoch 7/50\n",
      "1000/1000 [==============================] - 1s - loss: 0.1305 - acc: 0.9980     \n",
      "Epoch 8/50\n",
      "1000/1000 [==============================] - 1s - loss: 0.1281 - acc: 0.9980     \n",
      "Epoch 9/50\n",
      "1000/1000 [==============================] - 1s - loss: 0.1274 - acc: 0.9970     \n",
      "Epoch 10/50\n",
      "1000/1000 [==============================] - 1s - loss: 0.1270 - acc: 0.9980     \n",
      "Epoch 11/50\n",
      "1000/1000 [==============================] - 1s - loss: 0.1268 - acc: 0.9970     \n",
      "Epoch 12/50\n",
      "1000/1000 [==============================] - 1s - loss: 0.1266 - acc: 0.9980     \n",
      "Epoch 13/50\n",
      "1000/1000 [==============================] - 1s - loss: 0.1265 - acc: 0.9980     \n",
      "Epoch 14/50\n",
      "1000/1000 [==============================] - 1s - loss: 0.1264 - acc: 0.9970     \n",
      "Epoch 15/50\n",
      "1000/1000 [==============================] - 1s - loss: 0.1264 - acc: 0.9980     \n",
      "Epoch 16/50\n",
      "1000/1000 [==============================] - 1s - loss: 0.1263 - acc: 0.9970     \n",
      "Epoch 17/50\n",
      "1000/1000 [==============================] - 1s - loss: 0.1263 - acc: 0.9980     \n",
      "Epoch 18/50\n",
      "1000/1000 [==============================] - 1s - loss: 0.1262 - acc: 0.9980     \n",
      "Epoch 19/50\n",
      "1000/1000 [==============================] - 1s - loss: 0.1262 - acc: 0.9970     \n",
      "Epoch 20/50\n",
      "1000/1000 [==============================] - 1s - loss: 0.1262 - acc: 0.9980     \n",
      "Epoch 21/50\n",
      "1000/1000 [==============================] - 1s - loss: 0.1261 - acc: 0.9980     \n",
      "Epoch 22/50\n",
      "1000/1000 [==============================] - 1s - loss: 0.1261 - acc: 0.9980     \n",
      "Epoch 23/50\n",
      "1000/1000 [==============================] - 1s - loss: 0.1261 - acc: 0.9970     \n",
      "Epoch 24/50\n",
      "1000/1000 [==============================] - 1s - loss: 0.1261 - acc: 0.9980     \n",
      "Epoch 25/50\n",
      "1000/1000 [==============================] - 1s - loss: 0.1260 - acc: 0.9980     \n",
      "Epoch 26/50\n",
      "1000/1000 [==============================] - 1s - loss: 0.1260 - acc: 0.9980     \n",
      "Epoch 27/50\n",
      "1000/1000 [==============================] - 1s - loss: 0.1257 - acc: 0.9980     \n",
      "Epoch 28/50\n",
      "1000/1000 [==============================] - 1s - loss: 0.1241 - acc: 0.9980     \n",
      "Epoch 29/50\n",
      "1000/1000 [==============================] - 1s - loss: 0.0766 - acc: 0.9980     \n",
      "Epoch 30/50\n",
      "1000/1000 [==============================] - 1s - loss: 0.0076 - acc: 0.9980     \n",
      "Epoch 31/50\n",
      "1000/1000 [==============================] - 1s - loss: 0.0036 - acc: 0.9980     \n",
      "Epoch 32/50\n",
      "1000/1000 [==============================] - 1s - loss: 0.0028 - acc: 0.9980     \n",
      "Epoch 33/50\n",
      "1000/1000 [==============================] - 1s - loss: 0.0024 - acc: 0.9980     \n",
      "Epoch 34/50\n",
      "1000/1000 [==============================] - 1s - loss: 0.0022 - acc: 0.9980     \n",
      "Epoch 35/50\n",
      "1000/1000 [==============================] - 1s - loss: 0.0020 - acc: 0.9980     \n",
      "Epoch 36/50\n",
      "1000/1000 [==============================] - 1s - loss: 0.0019 - acc: 0.9980     \n",
      "Epoch 37/50\n",
      "1000/1000 [==============================] - 1s - loss: 0.0019 - acc: 0.9980     \n",
      "Epoch 38/50\n",
      "1000/1000 [==============================] - 1s - loss: 0.0018 - acc: 0.9980     \n",
      "Epoch 39/50\n",
      "1000/1000 [==============================] - 1s - loss: 0.0017 - acc: 0.9980     \n",
      "Epoch 40/50\n",
      "1000/1000 [==============================] - 1s - loss: 0.0017 - acc: 0.9980     \n",
      "Epoch 41/50\n",
      "1000/1000 [==============================] - 1s - loss: 0.0017 - acc: 0.9980     \n",
      "Epoch 42/50\n",
      "1000/1000 [==============================] - 1s - loss: 0.0016 - acc: 0.9980     \n",
      "Epoch 43/50\n",
      "1000/1000 [==============================] - 1s - loss: 0.0016 - acc: 0.9980     \n",
      "Epoch 44/50\n",
      "1000/1000 [==============================] - 1s - loss: 0.0016 - acc: 0.9980     \n",
      "Epoch 45/50\n",
      "1000/1000 [==============================] - 1s - loss: 0.0016 - acc: 0.9980     \n",
      "Epoch 46/50\n",
      "1000/1000 [==============================] - 1s - loss: 0.0015 - acc: 0.9980     \n",
      "Epoch 47/50\n",
      "1000/1000 [==============================] - 1s - loss: 0.0015 - acc: 0.9980     \n",
      "Epoch 48/50\n",
      "1000/1000 [==============================] - 1s - loss: 0.0015 - acc: 0.9980     \n",
      "Epoch 49/50\n",
      "1000/1000 [==============================] - 1s - loss: 0.0015 - acc: 0.9980     \n",
      "Epoch 50/50\n",
      "1000/1000 [==============================] - 1s - loss: 0.0015 - acc: 0.9980     \n",
      " 952/1000 [===========================>..] - ETA: 0s"
     ]
    }
   ],
   "source": [
    "x_train     = params['train_data'][:,:-1]\n",
    "y_train     = np.array([hw2.label_to_ytrue(2, x) for x in params['train_data'][:, -1]])\n",
    "x_test      = params['test_data'][:,:-1]\n",
    "y_test      = np.array([hw2.label_to_ytrue(2, x) for x in params['test_data'][:, -1]])\n",
    "\n",
    "keras_model = Sequential()\n",
    "keras_model.add(Dense(3, activation='relu', use_bias = False, kernel_initializer='random_uniform', input_dim = 2))\n",
    "keras_model.add(Dense(3, activation='relu', use_bias = False, kernel_initializer='random_uniform'))\n",
    "keras_model.add(Dense(2, activation='softmax', use_bias = False, kernel_initializer='random_uniform'))\n",
    "sgd = SGD(lr=params['eta'])\n",
    "keras_model.compile(optimizer=sgd, loss='mean_squared_error', metrics=['accuracy'])\n",
    "keras_model.fit(x_train, y_train, batch_size = 1, epochs=params['maxiter'])\n",
    "score = keras_model.evaluate(x_test, y_test, batch_size=1)\n"
   ]
  },
  {
   "cell_type": "code",
   "execution_count": 25,
   "metadata": {
    "collapsed": false
   },
   "outputs": [
    {
     "name": "stdout",
     "output_type": "stream",
     "text": [
      "[0.0011661231888813017, 0.998]\n"
     ]
    }
   ],
   "source": [
    "print score\n",
    "kw = keras_model.get_weights()"
   ]
  },
  {
   "cell_type": "code",
   "execution_count": 26,
   "metadata": {
    "collapsed": false
   },
   "outputs": [
    {
     "name": "stdout",
     "output_type": "stream",
     "text": [
      "Keras W1: [[-1.03383887  0.91446859  0.29889232]\n",
      " [ 0.91910839 -0.77785146 -0.31127363]]\n",
      "Keras W2: [[ -4.96396646e-02   3.47100466e-01   1.33719039e+00]\n",
      " [  1.19919693e+00  -4.29622605e-02  -1.57816373e-02]\n",
      " [  4.29353684e-01  -5.24332374e-03   3.23800952e-04]]\n",
      "Keras W3: [[ 0.89922833 -0.90330708]\n",
      " [-0.2071954   0.2821019 ]\n",
      " [-0.95654994  0.93394506]]\n"
     ]
    }
   ],
   "source": [
    "print \"Keras W1:\", kw[0]\n",
    "print \"Keras W2:\", kw[1]\n",
    "print \"Keras W3:\", kw[2]"
   ]
  },
  {
   "cell_type": "code",
   "execution_count": 27,
   "metadata": {
    "collapsed": true
   },
   "outputs": [],
   "source": [
    "kwt = []\n",
    "kwt.append(kw[0].T)\n",
    "kwt.append(kw[1].T)\n",
    "kwt.append(kw[2].T)"
   ]
  },
  {
   "cell_type": "code",
   "execution_count": 28,
   "metadata": {
    "collapsed": false
   },
   "outputs": [
    {
     "name": "stdout",
     "output_type": "stream",
     "text": [
      "Precision:  [ 0.998  0.998]\n",
      "Recall:  [ 0.998  0.998]\n",
      "F-Score:  [ 0.998  0.998]\n"
     ]
    }
   ],
   "source": [
    "# Find the f_score and other metrics\n",
    "precision_recall_fscore = hw2.get_precision_recall_fscore(params['shuffle_order_testing'], params['test_data'], kwt, params['z'], params['a'], params['y'])\n",
    "print \"Precision: \", precision_recall_fscore[0]\n",
    "print \"Recall: \", precision_recall_fscore[1]\n",
    "print \"F-Score: \", precision_recall_fscore[2]"
   ]
  }
 ],
 "metadata": {
  "kernelspec": {
   "display_name": "Python 2",
   "language": "python",
   "name": "python2"
  },
  "language_info": {
   "codemirror_mode": {
    "name": "ipython",
    "version": 2
   },
   "file_extension": ".py",
   "mimetype": "text/x-python",
   "name": "python",
   "nbconvert_exporter": "python",
   "pygments_lexer": "ipython2",
   "version": "2.7.12"
  }
 },
 "nbformat": 4,
 "nbformat_minor": 2
}
