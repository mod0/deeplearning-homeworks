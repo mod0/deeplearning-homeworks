{
 "cells": [
  {
   "cell_type": "code",
   "execution_count": 1,
   "metadata": {},
   "outputs": [],
   "source": [
    "%matplotlib inline\n",
    "%load_ext autoreload\n",
    "%autoreload 2"
   ]
  },
  {
   "cell_type": "code",
   "execution_count": 5,
   "metadata": {},
   "outputs": [],
   "source": [
    "import homework2qrnn_vanillarnn as hw2q3a\n",
    "import homework2qrnn_lstm       as hw2q3b\n",
    "import homework2qrnn_gru        as hw2q3c"
   ]
  },
  {
   "cell_type": "code",
   "execution_count": 3,
   "metadata": {},
   "outputs": [],
   "source": [
    "wordvecfile = \"sentiment-data/word-vectors-refine.txt\"\n",
    "trainfile   = \"sentiment-data/train.csv\"\n",
    "testfile    = \"sentiment-data/test.csv\""
   ]
  },
  {
   "cell_type": "code",
   "execution_count": 4,
   "metadata": {},
   "outputs": [
    {
     "name": "stdout",
     "output_type": "stream",
     "text": [
      "('Maximum sentence length in training data: ', 100)\n",
      "('Minimum sentence length in training data: ', 9)\n",
      "('Total no. of sentences in training data : ', 20000)\n",
      "('Maximum sentence length in testing data: ', 100)\n",
      "('Minimum sentence length in testing data: ', 10)\n",
      "('Total no. of sentences in testing data : ', 5000)\n"
     ]
    },
    {
     "name": "stderr",
     "output_type": "stream",
     "text": [
      "/home/mahesh/python-envs/tensorflow/local/lib/python2.7/site-packages/tensorflow/python/ops/gradients_impl.py:95: UserWarning: Converting sparse IndexedSlices to a dense Tensor of unknown shape. This may consume a large amount of memory.\n",
      "  \"Converting sparse IndexedSlices to a dense Tensor of unknown shape. \"\n"
     ]
    },
    {
     "name": "stdout",
     "output_type": "stream",
     "text": [
      "saved to models/pretrained_vrnn.ckpt-1\n",
      "saved to models/pretrained_vrnn.ckpt-3\n",
      "saved to models/pretrained_vrnn.ckpt-5\n",
      "saved to models/pretrained_vrnn.ckpt-7\n",
      "saved to models/pretrained_vrnn.ckpt-9\n",
      "('Accuracy: ', 0.60399991)\n"
     ]
    }
   ],
   "source": [
    "# Evaluating efficacy of Vanilla RNN with 64 cells\n",
    "hw2q3a.main(wordvecfile, trainfile, testfile)"
   ]
  },
  {
   "cell_type": "code",
   "execution_count": 6,
   "metadata": {},
   "outputs": [
    {
     "name": "stdout",
     "output_type": "stream",
     "text": [
      "('Maximum sentence length in training data: ', 100)\n",
      "('Minimum sentence length in training data: ', 9)\n",
      "('Total no. of sentences in training data : ', 20000)\n",
      "('Maximum sentence length in testing data: ', 100)\n",
      "('Minimum sentence length in testing data: ', 10)\n",
      "('Total no. of sentences in testing data : ', 5000)\n",
      "saved to models/pretrained_lstm.ckpt-1\n",
      "saved to models/pretrained_lstm.ckpt-3\n",
      "saved to models/pretrained_lstm.ckpt-5\n",
      "saved to models/pretrained_lstm.ckpt-7\n",
      "saved to models/pretrained_lstm.ckpt-9\n",
      "('Accuracy: ', 0.79099977)\n"
     ]
    }
   ],
   "source": [
    "# Evaluating the efficacy of LSTM with 64 cells\n",
    "hw2q3b.main(wordvecfile, trainfile, testfile)"
   ]
  },
  {
   "cell_type": "code",
   "execution_count": 7,
   "metadata": {},
   "outputs": [
    {
     "name": "stdout",
     "output_type": "stream",
     "text": [
      "('Maximum sentence length in training data: ', 100)\n",
      "('Minimum sentence length in training data: ', 9)\n",
      "('Total no. of sentences in training data : ', 20000)\n",
      "('Maximum sentence length in testing data: ', 100)\n",
      "('Minimum sentence length in testing data: ', 10)\n",
      "('Total no. of sentences in testing data : ', 5000)\n",
      "saved to models/pretrained_gru.ckpt-1\n",
      "saved to models/pretrained_gru.ckpt-3\n",
      "saved to models/pretrained_gru.ckpt-5\n",
      "saved to models/pretrained_gru.ckpt-7\n",
      "saved to models/pretrained_gru.ckpt-9\n",
      "('Accuracy: ', 0.80139983)\n"
     ]
    }
   ],
   "source": [
    "# Evaluating the efficacy of GRU with 64 cells\n",
    "hw2q3c.main(wordvecfile, trainfile, testfile)"
   ]
  }
 ],
 "metadata": {
  "kernelspec": {
   "display_name": "Python 2",
   "language": "python",
   "name": "python2"
  },
  "language_info": {
   "codemirror_mode": {
    "name": "ipython",
    "version": 2
   },
   "file_extension": ".py",
   "mimetype": "text/x-python",
   "name": "python",
   "nbconvert_exporter": "python",
   "pygments_lexer": "ipython2",
   "version": "2.7.12"
  }
 },
 "nbformat": 4,
 "nbformat_minor": 2
}
